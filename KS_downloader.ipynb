{
 "cells": [
  {
   "cell_type": "code",
   "execution_count": 11,
   "id": "35a3ab6c-5baf-426a-a168-97c26e42b5a5",
   "metadata": {
    "execution": {
     "iopub.execute_input": "2022-01-14T18:38:28.165884Z",
     "iopub.status.busy": "2022-01-14T18:38:28.164883Z",
     "iopub.status.idle": "2022-01-14T18:38:28.262875Z",
     "shell.execute_reply": "2022-01-14T18:38:28.261075Z",
     "shell.execute_reply.started": "2022-01-14T18:38:28.165884Z"
    },
    "tags": []
   },
   "outputs": [],
   "source": [
    "# imports\n",
    "import requests\n",
    "import os\n",
    "from lxml import html\n",
    "from htmldom import htmldom\n",
    "from PyPDF4 import PdfFileMerger, PdfFileReader"
   ]
  },
  {
   "cell_type": "code",
   "execution_count": 20,
   "id": "28c87da1-364c-448c-94bf-0f44d79f0047",
   "metadata": {
    "execution": {
     "iopub.execute_input": "2022-01-14T18:47:16.263471Z",
     "iopub.status.busy": "2022-01-14T18:47:16.259499Z",
     "iopub.status.idle": "2022-01-14T18:47:16.283677Z",
     "shell.execute_reply": "2022-01-14T18:47:16.283677Z",
     "shell.execute_reply.started": "2022-01-14T18:47:16.263471Z"
    },
    "tags": []
   },
   "outputs": [],
   "source": [
    "# setup\n",
    "directory = \"moderate\" # leave blank for current\n",
    "archive_url = \"https://www.killersudokuonline.com/archives-2021.html\"\n",
    "completed = [5493,5498,5499,5506,5512,5513,5519,5520,5526,5527,5533] # don't download these\n",
    "combined_directory = 'moderate_combined'\n",
    "solution_links = 'solution_links.html'"
   ]
  },
  {
   "cell_type": "code",
   "execution_count": 3,
   "id": "5521874e-8af4-4a46-a8e4-a8ef5c1d337c",
   "metadata": {
    "execution": {
     "iopub.execute_input": "2022-01-14T18:25:08.832858Z",
     "iopub.status.busy": "2022-01-14T18:25:08.832858Z",
     "iopub.status.idle": "2022-01-14T18:25:10.109550Z",
     "shell.execute_reply": "2022-01-14T18:25:10.109550Z",
     "shell.execute_reply.started": "2022-01-14T18:25:08.832858Z"
    },
    "tags": []
   },
   "outputs": [],
   "source": [
    "# get permalinks to moderate puzzle pages\n",
    "dom = htmldom.HtmlDom(archive_url)\n",
    "dom = dom.createDom()\n",
    "\n",
    "p = dom.find(\"a[name=KillerSudoku]\").children(\"table\")\n",
    "\n",
    "moderate = p[2] #easier would be 0, easy 1, etc\n",
    "# print(moderate.html())\n",
    "\n",
    "moderate_links= moderate.find(\"a\")\n",
    "# print(moderate_links[1].html())\n",
    "\n",
    "moderate_dict={}\n",
    "for i in moderate_links:\n",
    "    name = int(i.text()[10:])\n",
    "    permalink = \"https://www.killersudokuonline.com/\"+i.attr(\"href\")\n",
    "    moderate_dict[name]=dict(url = permalink)\n",
    "# print(moderate_dict)\n",
    "\n",
    "# remove completed\n",
    "for num in completed:\n",
    "    if num in moderate_dict.keys():\n",
    "        moderate_dict.pop(num)"
   ]
  },
  {
   "cell_type": "code",
   "execution_count": 4,
   "id": "60d57289-beea-43f8-b9c3-83f69353f436",
   "metadata": {
    "execution": {
     "iopub.execute_input": "2022-01-14T18:25:10.113356Z",
     "iopub.status.busy": "2022-01-14T18:25:10.109550Z",
     "iopub.status.idle": "2022-01-14T18:26:19.638069Z",
     "shell.execute_reply": "2022-01-14T18:26:19.636568Z",
     "shell.execute_reply.started": "2022-01-14T18:25:10.113356Z"
    },
    "tags": []
   },
   "outputs": [],
   "source": [
    "# get links for puzzles and solutions\n",
    "for i in moderate_dict.keys():\n",
    "    dom = htmldom.HtmlDom(moderate_dict[i][\"url\"])\n",
    "    dom = dom.createDom()\n",
    "\n",
    "    k = dom.find(\"a[name=kdaily]\").children(\"table\")\n",
    "    # print(k.html())\n",
    "    links = k.find(\"a\")\n",
    "    # print(links[0].html())\n",
    "\n",
    "    moderate_dict[i]['puzzle'] = \"https://www.killersudokuonline.com\" + links[0].attr(\"href\")\n",
    "    # print(puzzle)\n",
    "    moderate_dict[i]['solution'] = \"https://www.killersudokuonline.com\" + links[2].attr(\"href\")\n",
    "    # print(solution)"
   ]
  },
  {
   "cell_type": "code",
   "execution_count": 7,
   "id": "4840d65d-2672-49b9-9295-c68159fba07f",
   "metadata": {
    "execution": {
     "iopub.execute_input": "2022-01-14T18:26:19.704094Z",
     "iopub.status.busy": "2022-01-14T18:26:19.704094Z",
     "iopub.status.idle": "2022-01-14T18:26:19.716094Z",
     "shell.execute_reply": "2022-01-14T18:26:19.716094Z",
     "shell.execute_reply.started": "2022-01-14T18:26:19.704094Z"
    },
    "tags": []
   },
   "outputs": [],
   "source": [
    "# generate list of save paths\n",
    "if directory == \"\": directory=str(os.getcwd())\n",
    "for i in moderate_dict:\n",
    "    newTitle = str(i)+\".pdf\"\n",
    "    thisPath = directory+\"\\\\\"+newTitle\n",
    "    moderate_dict[i]['filepath'] = thisPath\n",
    "# print(paths)\n",
    "\n",
    "# # access and download puzzles\n",
    "for i in moderate_dict:\n",
    "    r = requests.get(moderate_dict[i]['puzzle']) # request that webpage\n",
    "    newFile = open(moderate_dict[i]['filepath'], 'wb+')\n",
    "    newFile.write(r.content) # create a file, and write to it\n",
    "    newFile.close()"
   ]
  },
  {
   "cell_type": "code",
   "execution_count": 10,
   "id": "0f54d24f-2a0e-438a-9353-9f9e29296b78",
   "metadata": {
    "collapsed": true,
    "execution": {
     "iopub.execute_input": "2022-01-14T18:27:47.005087Z",
     "iopub.status.busy": "2022-01-14T18:27:47.004081Z",
     "iopub.status.idle": "2022-01-14T18:27:48.720082Z",
     "shell.execute_reply": "2022-01-14T18:27:48.719076Z",
     "shell.execute_reply.started": "2022-01-14T18:27:47.005087Z"
    },
    "jupyter": {
     "outputs_hidden": true
    },
    "tags": []
   },
   "outputs": [
    {
     "name": "stdout",
     "output_type": "stream",
     "text": [
      "5534.pdf 5540.pdf\n",
      "5541.pdf 5547.pdf\n",
      "5548.pdf 5549.pdf\n",
      "5554.pdf 5555.pdf\n",
      "5556.pdf 5561.pdf\n",
      "5562.pdf 5568.pdf\n",
      "5569.pdf 5570.pdf\n",
      "5575.pdf 5576.pdf\n",
      "5581.pdf 5582.pdf\n",
      "5583.pdf 5589.pdf\n",
      "5590.pdf 5596.pdf\n",
      "5597.pdf 5603.pdf\n",
      "5604.pdf 5605.pdf\n",
      "5610.pdf 5611.pdf\n",
      "5612.pdf 5617.pdf\n",
      "5618.pdf 5624.pdf\n",
      "5625.pdf 5626.pdf\n",
      "5632.pdf 5638.pdf\n",
      "5639.pdf 5645.pdf\n",
      "5646.pdf 5652.pdf\n",
      "5653.pdf 5659.pdf\n",
      "5660.pdf 5665.pdf\n",
      "5666.pdf 5667.pdf\n",
      "5668.pdf 5673.pdf\n",
      "5674.pdf 5680.pdf\n",
      "5681.pdf 5688.pdf\n",
      "5693.pdf 5694.pdf\n",
      "5695.pdf 5702.pdf\n",
      "5708.pdf 5709.pdf\n",
      "5710.pdf 5715.pdf\n",
      "5716.pdf 5722.pdf\n",
      "5723.pdf 5724.pdf\n",
      "5730.pdf 5731.pdf\n",
      "5735.pdf 5736.pdf\n",
      "5737.pdf 5738.pdf\n",
      "5743.pdf 5744.pdf\n",
      "5750.pdf 5751.pdf\n",
      "5757.pdf 5758.pdf\n",
      "5765.pdf 5766.pdf\n",
      "5771.pdf 5772.pdf\n",
      "5777.pdf 5778.pdf\n",
      "5779.pdf 5785.pdf\n",
      "5786.pdf 5793.pdf\n",
      "5800.pdf 5801.pdf\n",
      "5806.pdf 5807.pdf\n",
      "5813.pdf 5814.pdf\n",
      "5820.pdf 5821.pdf\n",
      "5822.pdf 5826.pdf\n",
      "5827.pdf 5828.pdf\n",
      "5835.pdf 5841.pdf\n",
      "5842.pdf 5848.pdf\n",
      "5849.pdf 5856.pdf\n"
     ]
    }
   ],
   "source": [
    "# combine 2 pdfs for easy double sided printing\n",
    "files = os.listdir(directory)[1:]\n",
    "for pair in range(0, (len(files)),2):\n",
    "    print(files[pair], files[pair+1])\n",
    "    name = combined_directory+'\\\\'+files[pair][:-4]+'_'+files[pair+1]\n",
    "    # print(name)\n",
    "    \n",
    "    myfiles = [open(directory+'\\\\'+files[pair],\"rb\"), open(directory+'\\\\'+files[pair+1], \"rb\")]\n",
    "    merger = PdfFileMerger(open(name, \"wb\"))\n",
    "    merger.append(fileobj=myfiles[0])\n",
    "    merger.append(fileobj=myfiles[1])\n",
    "    \n",
    "    merger.write(fileobj=name)\n",
    "    merger.close()"
   ]
  },
  {
   "cell_type": "code",
   "execution_count": 24,
   "id": "c8a9c263-922a-4521-bab8-6eb1f5dc9e06",
   "metadata": {
    "execution": {
     "iopub.execute_input": "2022-01-14T18:50:54.961727Z",
     "iopub.status.busy": "2022-01-14T18:50:54.961727Z",
     "iopub.status.idle": "2022-01-14T18:50:54.978709Z",
     "shell.execute_reply": "2022-01-14T18:50:54.978709Z",
     "shell.execute_reply.started": "2022-01-14T18:50:54.961727Z"
    },
    "tags": []
   },
   "outputs": [],
   "source": [
    "# create a webpage with links to solutions\n",
    "txt=\"\"\n",
    "filename = combined_directory + '\\\\' + solution_links\n",
    "f = open(filename,\"w+\")\n",
    "f.write(\"<!DOCTYPE html> <html><body>\")\n",
    "for i in moderate_dict:\n",
    "    link = '<a href = \"' +  moderate_dict[i]['solution'] + '\">' + str(i) + '</a><br><br>'\n",
    "    f.write(link)\n",
    "f.write(\"</body></html>\")\n",
    "f.close()"
   ]
  },
  {
   "cell_type": "code",
   "execution_count": null,
   "id": "a0a7ce91-19b2-4285-a493-dcdaa364cf01",
   "metadata": {},
   "outputs": [],
   "source": []
  }
 ],
 "metadata": {
  "kernelspec": {
   "display_name": "Python 3 (ipykernel)",
   "language": "python",
   "name": "python3"
  },
  "language_info": {
   "codemirror_mode": {
    "name": "ipython",
    "version": 3
   },
   "file_extension": ".py",
   "mimetype": "text/x-python",
   "name": "python",
   "nbconvert_exporter": "python",
   "pygments_lexer": "ipython3",
   "version": "3.10.0"
  },
  "widgets": {
   "application/vnd.jupyter.widget-state+json": {
    "state": {},
    "version_major": 2,
    "version_minor": 0
   }
  }
 },
 "nbformat": 4,
 "nbformat_minor": 5
}
